{
  "nbformat": 4,
  "nbformat_minor": 0,
  "metadata": {
    "colab": {
      "provenance": []
    },
    "kernelspec": {
      "name": "python3",
      "display_name": "Python 3"
    },
    "language_info": {
      "name": "python"
    }
  },
  "cells": [
    {
      "cell_type": "markdown",
      "source": [
        "3. Auditors at a small community bank randomly sample 100 withdrawal transactions made during the week at an ATM machine located near the bank’s main branch. Over the past 2 years, the average withdrawal amount has been \n",
        "40 Since audit investigations are typically expensive, the auditors decide to not initiate further investigations if the mean transaction amount of the sample is between \n",
        "55 What is the probability that in any given week, there will be an investigation?\n",
        "A. 1.25% B. 2.5% C. 10.55% D. 21.1% E. 50%"
      ],
      "metadata": {
        "id": "-pL7V79Z5ICX"
      }
    },
    {
      "cell_type": "code",
      "source": [
        "import numpy as np\n",
        "from scipy import stats\n",
        "from scipy.stats import norm"
      ],
      "metadata": {
        "id": "z80iap5U5Roo"
      },
      "execution_count": null,
      "outputs": []
    },
    {
      "cell_type": "markdown",
      "source": [
        "\n",
        "n=100, Pop Mean=50, Pop SD=40 As no. of samples is more than 30, we can consider it normal distribution"
      ],
      "metadata": {
        "id": "dlmLkZmf5fjt"
      }
    },
    {
      "cell_type": "code",
      "source": [
        "# For No investigation P(45<X<55)\n",
        "# For Investigation 1-P(45<X<55)\n",
        "# find z-scores at x=45; z=(s_mean-P_mean)/(p_SD/sqrt(n))\n",
        "z=(45-50)/(40/100**0.5)\n",
        "z\n"
      ],
      "metadata": {
        "colab": {
          "base_uri": "https://localhost:8080/"
        },
        "id": "Y-SS3s0m5R5T",
        "outputId": "179a227a-8124-4b72-e58c-31b320959140"
      },
      "execution_count": null,
      "outputs": [
        {
          "output_type": "execute_result",
          "data": {
            "text/plain": [
              "-1.25"
            ]
          },
          "metadata": {},
          "execution_count": 2
        }
      ]
    },
    {
      "cell_type": "code",
      "source": [
        "# find z-scores at x=55; z=(s_mean-P_mean)/(p_SD/sqrt(n))\n",
        "z=(55-50)/(40/100**0.5)\n",
        "z"
      ],
      "metadata": {
        "colab": {
          "base_uri": "https://localhost:8080/"
        },
        "id": "VrhGDzPz5pQe",
        "outputId": "fd4610b7-49cd-439d-a776-d180adcce28e"
      },
      "execution_count": null,
      "outputs": [
        {
          "output_type": "execute_result",
          "data": {
            "text/plain": [
              "1.25"
            ]
          },
          "metadata": {},
          "execution_count": 3
        }
      ]
    },
    {
      "cell_type": "code",
      "source": [
        "# For No investigation P(45<X<55) using z_scores = P(X<50)-P(X<45)\n",
        "stats.norm.cdf(1.25)-stats.norm.cdf(-1.25)"
      ],
      "metadata": {
        "colab": {
          "base_uri": "https://localhost:8080/"
        },
        "id": "ApXgxw6z5u68",
        "outputId": "50f63810-872f-416d-9c5e-c9661cc254b5"
      },
      "execution_count": null,
      "outputs": [
        {
          "output_type": "execute_result",
          "data": {
            "text/plain": [
              "0.7887004526662893"
            ]
          },
          "metadata": {},
          "execution_count": 4
        }
      ]
    },
    {
      "cell_type": "code",
      "source": [
        "stats.norm.interval(0.7887,loc=50,scale=40/(100**0.5))\n"
      ],
      "metadata": {
        "colab": {
          "base_uri": "https://localhost:8080/"
        },
        "id": "4bVw4kso50js",
        "outputId": "b75d20c4-ac81-4feb-ccfe-8eb03323f22a"
      },
      "execution_count": null,
      "outputs": [
        {
          "output_type": "execute_result",
          "data": {
            "text/plain": [
              "(45.00000495667348, 54.99999504332652)"
            ]
          },
          "metadata": {},
          "execution_count": 5
        }
      ]
    },
    {
      "cell_type": "code",
      "source": [
        "# For Investigation 1-P(45<X<55)\n",
        "1-0.7887"
      ],
      "metadata": {
        "colab": {
          "base_uri": "https://localhost:8080/"
        },
        "id": "zAad6s0b56jC",
        "outputId": "e5528017-106c-4791-c634-1329716591fd"
      },
      "execution_count": null,
      "outputs": [
        {
          "output_type": "execute_result",
          "data": {
            "text/plain": [
              "0.21130000000000004"
            ]
          },
          "metadata": {},
          "execution_count": 6
        }
      ]
    },
    {
      "cell_type": "markdown",
      "source": [
        "Answer is D. 21.1%"
      ],
      "metadata": {
        "id": "OH10_A2V6EU_"
      }
    },
    {
      "cell_type": "code",
      "source": [],
      "metadata": {
        "id": "CS17aptE6HQZ"
      },
      "execution_count": null,
      "outputs": []
    },
    {
      "cell_type": "code",
      "source": [],
      "metadata": {
        "id": "7ZcVwXeZ6HTS"
      },
      "execution_count": null,
      "outputs": []
    }
  ]
}