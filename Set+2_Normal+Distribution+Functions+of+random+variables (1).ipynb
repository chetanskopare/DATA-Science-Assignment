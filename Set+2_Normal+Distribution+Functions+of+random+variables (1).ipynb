{
  "nbformat": 4,
  "nbformat_minor": 0,
  "metadata": {
    "colab": {
      "provenance": []
    },
    "kernelspec": {
      "name": "python3",
      "display_name": "Python 3"
    },
    "language_info": {
      "name": "python"
    }
  },
  "cells": [
    {
      "cell_type": "markdown",
      "source": [
        "Q1. The time required for servicing transmissions is normally distributed with mu = 45 minutes and sigma = 8 minutes. The service manager plans to have work begin on the transmission of a customer’s car 10 minutes after the car is dropped off and the customer is told that the car will be ready within 1 hour from drop-off. What is the probability that the service manager cannot meet his commitment?"
      ],
      "metadata": {
        "id": "Eu29jwizX8O-"
      }
    },
    {
      "cell_type": "code",
      "source": [
        "import numpy as np\n",
        "import pandas as pd\n",
        "import scipy.stats as stats\n",
        "import warnings\n",
        "warnings.filterwarnings('ignore')"
      ],
      "metadata": {
        "id": "Iv03Jt4nYAq3"
      },
      "execution_count": 1,
      "outputs": []
    },
    {
      "cell_type": "code",
      "source": [
        "#Given Data\n",
        "'''the serving work will began after 10 min of drop off so 45+10 \n",
        "which will now take more than the usual time so new mu is 55 minutes \n",
        "and the porbbaility that it will take more than 1 hour to complete'''\n",
        "\n",
        "mu = 55\n",
        "sigma = 8\n",
        "prob = stats.norm.sf(60,loc=mu,scale=sigma)\n",
        "print('Probability that the service manager cannot meet his commitment is :',np.round(prob,5))"
      ],
      "metadata": {
        "colab": {
          "base_uri": "https://localhost:8080/"
        },
        "id": "oCsOsKH8YO_P",
        "outputId": "ab23db11-1325-4d86-e107-ee185c605dd5"
      },
      "execution_count": 2,
      "outputs": [
        {
          "output_type": "stream",
          "name": "stdout",
          "text": [
            "Probability that the service manager cannot meet his commitment is : 0.26599\n"
          ]
        }
      ]
    },
    {
      "cell_type": "markdown",
      "source": [
        "#### Q2. The current age (in years) of 400 clerical employees at an insurance claims processing center is normally distributed with mean = 38 and Standard deviation =6. For each statement below, please specify True/False. If false, briefly explain why.\n",
        "*\tMore employees at the processing center are older than 44 than between 38 and 44.\n",
        "*\tA training program for employees under the age of 30 at the center would be expected to attract about 36 employees.\n"
      ],
      "metadata": {
        "id": "2jUrcQXSYaVl"
      }
    },
    {
      "cell_type": "code",
      "source": [
        "# Given Data \n",
        "N = 400\n",
        "mu = 38\n",
        "std = 6\n",
        "lessthan_44 = stats.norm.cdf(44,loc=mu,scale=std)\n",
        "lessthan_38 = stats.norm.cdf(38,loc=mu,scale=std)\n",
        "prob_between_44_and_38 = (lessthan_44 - lessthan_38)\n",
        "morethan_44 = 1 - stats.norm.cdf(44,loc=mu,scale=std)\n",
        "print('(A)','\\nProbability between 44 & 38 is :',prob_between_44_and_38)\n",
        "print('Probability more than 44 is :',morethan_44)\n",
        "print('More employees at the processing center are older than 44 tha between 38 and 44 is :',\n",
        "     morethan_44 > prob_between_44_and_38)\n",
        "\n",
        "under_30 = stats.norm.cdf(30,loc=mu,scale=std)\n",
        "print('\\n(B) A training program for employees under the age of 30 at the center would be expected to attract about',\n",
        "     np.round(under_30*400),'employees is \"True\"')"
      ],
      "metadata": {
        "colab": {
          "base_uri": "https://localhost:8080/"
        },
        "id": "YVSUWKo4YPK-",
        "outputId": "4a6e0f1f-03b2-4471-e169-85d85dfa4de0"
      },
      "execution_count": 3,
      "outputs": [
        {
          "output_type": "stream",
          "name": "stdout",
          "text": [
            "(A) \n",
            "Probability between 44 & 38 is : 0.3413447460685429\n",
            "Probability more than 44 is : 0.15865525393145707\n",
            "More employees at the processing center are older than 44 tha between 38 and 44 is : False\n",
            "\n",
            "(B) A training program for employees under the age of 30 at the center would be expected to attract about 36.0 employees is \"True\"\n"
          ]
        }
      ]
    },
    {
      "cell_type": "markdown",
      "source": [
        "#### Q4. Let X ~ N(100, 20^2). Find two values, a and b, symmetric about the mean, such that the probability of the random variable taking a value between them is 0.99. \n",
        "\n",
        "A.\t90.5, 105.9\n",
        "\n",
        "B.\t80.2, 119.8 \n",
        "\n",
        "C.\t22, 78 \n",
        "\n",
        "D.\t48.5, 151.5 \n",
        "\n",
        "E.\t90.1, 109.9"
      ],
      "metadata": {
        "id": "I2o8RRuiYqNI"
      }
    },
    {
      "cell_type": "code",
      "source": [
        "#Given\n",
        "mu = 100\n",
        "std = 20\n",
        "print('The two values a and b symmetric about the mean such that the probability of the random variable taking a value between them is 0.99 is :'\n",
        ",np.round(stats.norm.interval(0.99,loc=mu,scale=std)))"
      ],
      "metadata": {
        "colab": {
          "base_uri": "https://localhost:8080/"
        },
        "id": "IUhkmIMuYlHw",
        "outputId": "635ed71f-627d-4474-fd6c-4adb8e0c13e1"
      },
      "execution_count": 4,
      "outputs": [
        {
          "output_type": "stream",
          "name": "stdout",
          "text": [
            "The two values a and b symmetric about the mean such that the probability of the random variable taking a value between them is 0.99 is : [ 48. 152.]\n"
          ]
        }
      ]
    },
    {
      "cell_type": "markdown",
      "source": [
        "#### Q5. Consider a company that has two different divisions. The annual profits from the two divisions are independent and have distributions Profit1 ~ N(5, 3^2) and Profit2 ~ N(7, 4^2) respectively. Both the profits are in Million. Answer the following questions about the total profit of the company in Rupees. Assume that 1 = Rs. 45"
      ],
      "metadata": {
        "id": "FkTx9jrfZJ6a"
      }
    },
    {
      "cell_type": "code",
      "source": [
        "# Combine Mean Profit of both division for Company= mean1 + mean2\n",
        "mean1 = 5\n",
        "mean2 = 7\n",
        "Mean = (mean1+mean2) # 1 USD = 45 rupees\n",
        "print('The Mean Profit of both division:',Mean, 'Million$')\n",
        "print('The Mean Profit of both division:',(Mean*45)/10, 'Crore Rupees')\n",
        "\n",
        "# Combine standard Deviation = (Std1^2 + Std2^2)^1/2\n",
        "std1 = 3**2\n",
        "std2 = 4**2\n",
        "Std = np.sqrt(std1 + std2)\n",
        "print('The Standard Deviation of both division:', Std, 'Million$')\n",
        "print('The Standard Deviation of both division:', (Std*45)/10, 'Crore Rupees')"
      ],
      "metadata": {
        "colab": {
          "base_uri": "https://localhost:8080/"
        },
        "id": "UPBagCR5YlR8",
        "outputId": "a1d20d88-97bc-46b8-aaf1-cd12599707e4"
      },
      "execution_count": 5,
      "outputs": [
        {
          "output_type": "stream",
          "name": "stdout",
          "text": [
            "The Mean Profit of both division: 12 Million$\n",
            "The Mean Profit of both division: 54.0 Crore Rupees\n",
            "The Standard Deviation of both division: 5.0 Million$\n",
            "The Standard Deviation of both division: 22.5 Crore Rupees\n"
          ]
        }
      ]
    },
    {
      "cell_type": "markdown",
      "source": [
        "\n",
        "A. Specify a Rupee range (centered on the mean) such that it contains 95% probability for the annual profit of the company."
      ],
      "metadata": {
        "id": "YN0GXhKqZdf3"
      }
    },
    {
      "cell_type": "code",
      "source": [
        "r1, r2 = np.round(stats.norm.interval(0.95, Mean, Std),2)\n",
        "print('Rupee Ranges from',r1,'to',r2,'Million$ in Annual profit of the Company 95% of the time')\n",
        "print('Rupee Ranges from',np.divide(np.multiply(r1,45),10),'to',np.divide(np.multiply(r2,45),10),'Crore Rupees in Annual profit of the Company 95% of the time')"
      ],
      "metadata": {
        "colab": {
          "base_uri": "https://localhost:8080/"
        },
        "id": "ISQKszmaZe5a",
        "outputId": "ff66b213-1524-4cb5-8f3e-6915b82c1b54"
      },
      "execution_count": 6,
      "outputs": [
        {
          "output_type": "stream",
          "name": "stdout",
          "text": [
            "Rupee Ranges from 2.2 to 21.8 Million$ in Annual profit of the Company 95% of the time\n",
            "Rupee Ranges from 9.900000000000002 to 98.1 Crore Rupees in Annual profit of the Company 95% of the time\n"
          ]
        }
      ]
    },
    {
      "cell_type": "markdown",
      "source": [
        "B. Specify the 5th percentile of profit (in Rupees) for the company\n",
        "\n"
      ],
      "metadata": {
        "id": "t1h2ra7PZjwH"
      }
    },
    {
      "cell_type": "code",
      "source": [
        "# Z value  = X_bar - Mew / Std pop \n",
        "# for percentile, X_percentile = (Zvalue * Std pop) + Mew\n",
        "Z_05_ = stats.norm.ppf(0.05)\n",
        "Fifth_percentile = (Z_05_ * Std) + Mean\n",
        "print('The 5th percentile of Profit for the company is',np.round(Fifth_percentile,2),'Million$')\n",
        "print('The 5th percentile of Profit for the company is',np.round((Fifth_percentile*45)/10,),'Crore Rupees')"
      ],
      "metadata": {
        "colab": {
          "base_uri": "https://localhost:8080/"
        },
        "id": "P9xRH3LvZnm6",
        "outputId": "5e3f8503-0d8d-4f2f-916d-6c143a233131"
      },
      "execution_count": 7,
      "outputs": [
        {
          "output_type": "stream",
          "name": "stdout",
          "text": [
            "The 5th percentile of Profit for the company is 3.78 Million$\n",
            "The 5th percentile of Profit for the company is 17.0 Crore Rupees\n"
          ]
        }
      ]
    },
    {
      "cell_type": "markdown",
      "source": [
        "C.\tWhich of the two divisions has a larger probability of making a loss in a given year?"
      ],
      "metadata": {
        "id": "iSd7jiShZuJw"
      }
    },
    {
      "cell_type": "code",
      "source": [
        "# The probability of Division #1 making a loss\n",
        "print('The Probability of Division #1 making a loss is',np.round((stats.norm.cdf(0,5,3))*100,2),'%')\n",
        "\n",
        "# The probability of Division #2 making a loss\n",
        "print('The Probability of Division #2 making a loss is',np.round((stats.norm.cdf(0,7,4))*100,2),'%')\n",
        "\n",
        "Division_1 = (stats.norm.cdf(0,5,3))*100\n",
        "Division_2 = (stats.norm.cdf(0,7,4))*100\n",
        "\n",
        "if Division_1>Division_2:\n",
        "    print('The Division 1 has a larger Probability of making a loss')\n",
        "else:\n",
        "          print('The Division 2 has a larger Porbability of making a loss')"
      ],
      "metadata": {
        "colab": {
          "base_uri": "https://localhost:8080/"
        },
        "id": "kI7T3hNxZ09Y",
        "outputId": "80b6f5cb-ce78-4747-e412-1540c4bc4e80"
      },
      "execution_count": 8,
      "outputs": [
        {
          "output_type": "stream",
          "name": "stdout",
          "text": [
            "The Probability of Division #1 making a loss is 4.78 %\n",
            "The Probability of Division #2 making a loss is 4.01 %\n",
            "The Division 1 has a larger Probability of making a loss\n"
          ]
        }
      ]
    }
  ]
}